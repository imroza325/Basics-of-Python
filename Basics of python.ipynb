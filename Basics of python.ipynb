{
 "cells": [
  {
   "cell_type": "code",
   "execution_count": 1,
   "id": "f8900425-7eb9-41ab-aa0e-bd832216bb0d",
   "metadata": {},
   "outputs": [],
   "source": [
    "#excercise 1: Prime Numbers\n",
    "#define a function which checks the given number is greater than 1 or not\n",
    "def is_prime(num):\n",
    "  if num <= 1:\n",
    "    return False\n",
    "  for i in range(2, int(num**0.5) + 1):\n",
    "    if num % i == 0:\n",
    "      return False\n",
    "  return True"
   ]
  },
  {
   "cell_type": "code",
   "execution_count": 2,
   "id": "8c3b8edc-7a9e-4f2b-a094-e5e0753d83ac",
   "metadata": {},
   "outputs": [
    {
     "name": "stdin",
     "output_type": "stream",
     "text": [
      "Enter a number:  47\n"
     ]
    }
   ],
   "source": [
    "# Get input from the user\n",
    "number= int(input(\"Enter a number: \"))\n"
   ]
  },
  {
   "cell_type": "code",
   "execution_count": 3,
   "id": "4e2547fc-e5c2-4a61-850c-42121ae6f5a9",
   "metadata": {},
   "outputs": [
    {
     "name": "stdout",
     "output_type": "stream",
     "text": [
      "47 is a prime number.\n"
     ]
    }
   ],
   "source": [
    "# Check if the number is prime\n",
    "if is_prime(number):\n",
    "  print(f\"{number} is a prime number.\")\n",
    "else:\n",
    "  print(f\"{number} is not a prime number.\")"
   ]
  },
  {
   "cell_type": "code",
   "execution_count": 4,
   "id": "ef698bdc-033e-467b-ab9d-5b83544784d3",
   "metadata": {},
   "outputs": [
    {
     "name": "stdin",
     "output_type": "stream",
     "text": [
      "what is the product of91and84? 56784\n"
     ]
    },
    {
     "name": "stdout",
     "output_type": "stream",
     "text": [
      "sorry,your answer is wrong.\n",
      "The correct anwer is \n",
      "7644\n"
     ]
    }
   ],
   "source": [
    "#exercise-2:product of random variables\n",
    "import random\n",
    "\n",
    "# Generate two random numbers\n",
    "num1 = random.randint(1, 100)  # Adjust the range as needed\n",
    "num2 = random.randint(1, 100)  # Adjust the range as needed\n",
    "#calcualting the product\n",
    "product=num1*num2\n",
    "#asking user for answer\n",
    "user_ans= int(input(\"what is the product of\"+ str(num1) +\"and\"+str(num2)+\"?\"))\n",
    "#checking user answer and display message\n",
    "if user_ans==product:\n",
    "    print(\"congratulations,right answer.\")\n",
    "else:\n",
    "    print(\"sorry,your answer is wrong.\", \"The correct anwer is \",product,sep=\"\\n\")"
   ]
  },
  {
   "cell_type": "code",
   "execution_count": 8,
   "id": "9532774a-8e70-44b8-bf04-0775a2b0a0ee",
   "metadata": {},
   "outputs": [
    {
     "name": "stdout",
     "output_type": "stream",
     "text": [
      "The square of 201 is : 40401\n",
      "The square of 203 is : 41209\n",
      "The square of 205 is : 42025\n",
      "The square of 207 is : 42849\n",
      "The square of 209 is : 43681\n",
      "The square of 211 is : 44521\n",
      "The square of 213 is : 45369\n",
      "The square of 215 is : 46225\n",
      "The square of 217 is : 47089\n",
      "The square of 219 is : 47961\n",
      "The square of 221 is : 48841\n",
      "The square of 223 is : 49729\n",
      "The square of 225 is : 50625\n",
      "The square of 227 is : 51529\n",
      "The square of 229 is : 52441\n",
      "The square of 231 is : 53361\n",
      "The square of 233 is : 54289\n",
      "The square of 235 is : 55225\n",
      "The square of 237 is : 56169\n",
      "The square of 239 is : 57121\n",
      "The square of 241 is : 58081\n",
      "The square of 243 is : 59049\n",
      "The square of 245 is : 60025\n",
      "The square of 247 is : 61009\n",
      "The square of 249 is : 62001\n",
      "The square of 251 is : 63001\n",
      "The square of 253 is : 64009\n",
      "The square of 255 is : 65025\n",
      "The square of 257 is : 66049\n",
      "The square of 259 is : 67081\n",
      "The square of 261 is : 68121\n",
      "The square of 263 is : 69169\n",
      "The square of 265 is : 70225\n",
      "The square of 267 is : 71289\n",
      "The square of 269 is : 72361\n",
      "The square of 271 is : 73441\n",
      "The square of 273 is : 74529\n",
      "The square of 275 is : 75625\n",
      "The square of 277 is : 76729\n",
      "The square of 279 is : 77841\n",
      "The square of 281 is : 78961\n",
      "The square of 283 is : 80089\n",
      "The square of 285 is : 81225\n",
      "The square of 287 is : 82369\n",
      "The square of 289 is : 83521\n",
      "The square of 291 is : 84681\n",
      "The square of 293 is : 85849\n",
      "The square of 295 is : 87025\n",
      "The square of 297 is : 88209\n",
      "The square of 299 is : 89401\n"
     ]
    }
   ],
   "source": [
    "#excercise-3:Squares of Odd Numbers:\n",
    "#loop for  taking range\n",
    "for i in range(200,300):\n",
    "#checking given number is odd or not\n",
    "    if i%2!=0:\n",
    "        square=i*i\n",
    "        print(f\"The square of {i} is :\",square)"
   ]
  },
  {
   "cell_type": "code",
   "execution_count": 9,
   "id": "7f6f4c2e-9adf-45e5-b853-5cb80c622179",
   "metadata": {},
   "outputs": [
    {
     "name": "stdout",
     "output_type": "stream",
     "text": [
      "This: 1\n",
      "This: 2\n",
      "is: 1\n",
      "a: 1\n",
      "sample: 1\n",
      "text: 1\n"
     ]
    }
   ],
   "source": [
    "#Exercise-4: Word counter\n",
    "\n",
    "text =\"This is a sample text. This text will be used to demonstrate the word counter.\"\n",
    "a=0\n",
    "b=0\n",
    "c=0\n",
    "d=0\n",
    "e=0\n",
    "#spliting text with spaces\n",
    "words=text.split()\n",
    "#using for loop to count \"this\" word\n",
    "for i in words:\n",
    "    if i==\"This\":\n",
    "        a+=1\n",
    "        print(\"This:\",a)\n",
    "#using for loop to count \"is\" word        \n",
    "for i in words:\n",
    "    if i==\"is\":\n",
    "        b+=1\n",
    "        print(\"is:\",b)\n",
    "#using for loop to count \"a\" word        \n",
    "for i in words:\n",
    "    if i==\"a\":\n",
    "        c+=1\n",
    "        print(\"a:\",c)\n",
    "#using for loop to count \"sample\" word        \n",
    "for i in words:\n",
    "    if i==\"sample\":\n",
    "        d+=1\n",
    "        print(\"sample:\",d)\n",
    "#using for loop to count \"text\" word        \n",
    "for i in words:\n",
    "    if i==\"text\":\n",
    "        e+=1\n",
    "        print(\"text:\",e)  "
   ]
  },
  {
   "cell_type": "code",
   "execution_count": 7,
   "id": "a242c03a-2b99-42e3-a5b3-5730a4add3fb",
   "metadata": {},
   "outputs": [
    {
     "name": "stdout",
     "output_type": "stream",
     "text": [
      "racecar True\n"
     ]
    }
   ],
   "source": [
    "#exercise-5:Check for Palindrome\n",
    "#defining function for palindrome variable\n",
    "def is_palindrome(var):\n",
    "    return str(var) == str(var)[::-1]\n",
    "# Test the function\n",
    "var = \"racecar\"  \n",
    "if is_palindrome(var):\n",
    "    print(var, \"True\")\n",
    "else:\n",
    "    print(var, \"false\")"
   ]
  },
  {
   "cell_type": "code",
   "execution_count": null,
   "id": "19fc1cac-b285-47c5-8c2c-54e8e33320d0",
   "metadata": {},
   "outputs": [],
   "source": []
  }
 ],
 "metadata": {
  "kernelspec": {
   "display_name": "Python 3 (ipykernel)",
   "language": "python",
   "name": "python3"
  },
  "language_info": {
   "codemirror_mode": {
    "name": "ipython",
    "version": 3
   },
   "file_extension": ".py",
   "mimetype": "text/x-python",
   "name": "python",
   "nbconvert_exporter": "python",
   "pygments_lexer": "ipython3",
   "version": "3.11.7"
  }
 },
 "nbformat": 4,
 "nbformat_minor": 5
}
